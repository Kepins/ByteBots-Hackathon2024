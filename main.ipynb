{
 "cells": [
  {
   "cell_type": "markdown",
   "id": "f2cea473-23b3-4806-8a99-0c1e59dc8dea",
   "metadata": {},
   "source": [
    "# Thyroid Disease Data"
   ]
  },
  {
   "cell_type": "code",
   "execution_count": null,
   "id": "7c385569-6843-4602-bccd-8efdb9bf0439",
   "metadata": {},
   "outputs": [],
   "source": [
    "import pandas as pd\n",
    "\n",
    "df = pd.read_csv(\"thyroidDF.csv\")"
   ]
  },
  {
   "cell_type": "markdown",
   "id": "14924645-c9c9-49bc-b268-80d1f13ed085",
   "metadata": {},
   "source": [
    "## Data feature engineering"
   ]
  },
  {
   "cell_type": "markdown",
   "id": "7a93fd52-25c5-4241-9086-cefdf7707859",
   "metadata": {},
   "source": [
    "### Initital columns"
   ]
  },
  {
   "cell_type": "markdown",
   "id": "bb966f50-3ed5-4c90-b4fd-362f1287db2b",
   "metadata": {},
   "source": [
    "These are all the columns present in the dataset:\n",
    "\n",
    "1. age - age of the patient (int)\n",
    "2. sex - sex patient identifies (str)\n",
    "3. on_thyroxine - whether patient is on thyroxine (bool)\n",
    "4. query on thyroxine - *whether patient is on thyroxine (bool)\n",
    "5. on antithyroid meds - whether patient is on antithyroid meds (bool)\n",
    "6. sick - whether patient is sick (bool)\n",
    "7. pregnant - whether patient is pregnant (bool)\n",
    "8. thyroid_surgery - whether patient has undergone thyroid surgery (bool)\n",
    "9. I131_treatment - whether patient is undergoing I131 treatment (bool)\n",
    "10. query_hypothyroid - whether patient believes they have hypothyroid (bool)\n",
    "11. query_hyperthyroid - whether patient believes they have hyperthyroid (bool)\n",
    "12. lithium - whether patient * lithium (bool)\n",
    "13. goitre - whether patient has goitre (bool)\n",
    "14. tumor - whether patient has tumor (bool)\n",
    "15. hypopituitary - whether patient * hyperpituitary gland (float)\n",
    "16. psych - whether patient * psych (bool)\n",
    "17. TSH_measured - whether TSH was measured in the blood (bool)\n",
    "18. TSH - TSH level in blood from lab work (float)\n",
    "19. T3_measured - whether T3 was measured in the blood (bool)\n",
    "20. T3 - T3 level in blood from lab work (float)\n",
    "21. TT4_measured - whether TT4 was measured in the blood (bool)\n",
    "22. TT4 - TT4 level in blood from lab work (float)\n",
    "23. T4U_measured - whether T4U was measured in the blood (bool)\n",
    "24. T4U - T4U level in blood from lab work (float)\n",
    "25. FTI_measured - whether FTI was measured in the blood (bool)\n",
    "26. FTI - FTI level in blood from lab work (float)\n",
    "27. TBG_measured - whether TBG was measured in the blood (bool)\n",
    "28. TBG - TBG level in blood from lab work (float)\n",
    "29. referral_source - (str)\n",
    "30. target - hyperthyroidism medical diagnosis (str)\n",
    "31. patient_id - unique id of the patient (str)\n"
   ]
  },
  {
   "cell_type": "code",
   "execution_count": null,
   "id": "8fd929ca-af3b-4963-8c05-52f97d4686c8",
   "metadata": {},
   "outputs": [],
   "source": []
  },
  {
   "cell_type": "markdown",
   "id": "4caad193-bfc0-4474-a8d0-0461d1405b38",
   "metadata": {},
   "source": [
    "### Removing redundant columns\n",
    "Columns that have artifial values and information about measurement that is repesented by empty value in associated column"
   ]
  },
  {
   "cell_type": "code",
   "execution_count": null,
   "id": "dfd29c10-ed57-4a5d-8769-9e551f98c65a",
   "metadata": {},
   "outputs": [],
   "source": [
    "rem_columns = [\n",
    "    'TSH_measured',\n",
    "    'T3_measured',\n",
    "    'TT4_measured',\n",
    "    'T4U_measured',\n",
    "    'FTI_measured',\n",
    "    'TBG_measured',\n",
    "    'referral_source',\n",
    "    'patient_id',\n",
    "]\n",
    "df.drop(rem_columns, axis=1 ,inplace=True)"
   ]
  },
  {
   "cell_type": "code",
   "execution_count": null,
   "id": "9134cf6a-0053-4e4b-b0e8-be01cc9d616d",
   "metadata": {},
   "outputs": [],
   "source": [
    "df.columns"
   ]
  }
 ],
 "metadata": {
  "kernelspec": {
   "display_name": "Python 3 (ipykernel)",
   "language": "python",
   "name": "python3"
  },
  "language_info": {
   "codemirror_mode": {
    "name": "ipython",
    "version": 3
   },
   "file_extension": ".py",
   "mimetype": "text/x-python",
   "name": "python",
   "nbconvert_exporter": "python",
   "pygments_lexer": "ipython3",
   "version": "3.12.3"
  }
 },
 "nbformat": 4,
 "nbformat_minor": 5
}
